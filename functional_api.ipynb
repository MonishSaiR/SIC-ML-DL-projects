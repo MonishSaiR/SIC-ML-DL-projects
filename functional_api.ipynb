{
  "metadata": {
    "kaggle": {
      "accelerator": "nvidiaTeslaT4",
      "dataSources": [
        {
          "sourceId": 1663377,
          "sourceType": "datasetVersion",
          "datasetId": 918039
        },
        {
          "sourceId": 2546969,
          "sourceType": "datasetVersion",
          "datasetId": 1544742
        }
      ],
      "dockerImageVersionId": 30636,
      "isInternetEnabled": true,
      "language": "python",
      "sourceType": "notebook",
      "isGpuEnabled": true
    },
    "kernelspec": {
      "display_name": "Python 3",
      "language": "python",
      "name": "python3"
    },
    "language_info": {
      "codemirror_mode": {
        "name": "ipython",
        "version": 3
      },
      "file_extension": ".py",
      "mimetype": "text/x-python",
      "name": "python",
      "nbconvert_exporter": "python",
      "pygments_lexer": "ipython3",
      "version": "3.10.12"
    },
    "papermill": {
      "default_parameters": {},
      "duration": 498.548459,
      "end_time": "2024-01-11T16:54:35.246342",
      "environment_variables": {},
      "exception": null,
      "input_path": "__notebook__.ipynb",
      "output_path": "__notebook__.ipynb",
      "parameters": {},
      "start_time": "2024-01-11T16:46:16.697883",
      "version": "2.4.0"
    },
    "colab": {
      "name": "functional_api",
      "provenance": []
    }
  },
  "nbformat_minor": 0,
  "nbformat": 4,
  "cells": [
    {
      "source": [
        "\n",
        "# IMPORTANT: RUN THIS CELL IN ORDER TO IMPORT YOUR KAGGLE DATA SOURCES\n",
        "# TO THE CORRECT LOCATION (/kaggle/input) IN YOUR NOTEBOOK,\n",
        "# THEN FEEL FREE TO DELETE THIS CELL.\n",
        "# NOTE: THIS NOTEBOOK ENVIRONMENT DIFFERS FROM KAGGLE'S PYTHON\n",
        "# ENVIRONMENT SO THERE MAY BE MISSING LIBRARIES USED BY YOUR\n",
        "# NOTEBOOK.\n",
        "\n",
        "import os\n",
        "import sys\n",
        "from tempfile import NamedTemporaryFile\n",
        "from urllib.request import urlopen\n",
        "from urllib.parse import unquote, urlparse\n",
        "from urllib.error import HTTPError\n",
        "from zipfile import ZipFile\n",
        "import tarfile\n",
        "import shutil\n",
        "\n",
        "CHUNK_SIZE = 40960\n",
        "DATA_SOURCE_MAPPING = 'eurosat-dataset:https%3A%2F%2Fstorage.googleapis.com%2Fkaggle-data-sets%2F918039%2F1663377%2Fbundle%2Farchive.zip%3FX-Goog-Algorithm%3DGOOG4-RSA-SHA256%26X-Goog-Credential%3Dgcp-kaggle-com%2540kaggle-161607.iam.gserviceaccount.com%252F20240531%252Fauto%252Fstorage%252Fgoog4_request%26X-Goog-Date%3D20240531T143629Z%26X-Goog-Expires%3D259200%26X-Goog-SignedHeaders%3Dhost%26X-Goog-Signature%3D1de10bc7130c91bc58aad23d29e0389f74b8ebe5053bdf26ca9acc6d92f8603712efde83e7585e464ba7b0343599dd6aca1ae72abada1a85b8a9a517d8c57adaab35cae035847b9e9910b3df2f510f6aa012f96eb9f494dbac831d62c79be697196a5d935e71d7a36cde204f6d08392c04d51de7eb70c2d54144adadb2149632365296e2aada5e3292866ffebdcad55608d4b55a248966e5ac175cbab4c31d72ec25fcd08276b3d894fa3d6efbe6b4ab96b9b775f57c0826291e6e6721b8b7b53af9e4ff4ef52838169dfa324a9002d485d1afe548be04a4fcc8b8317cf426349b2ac033a2d55670b9f168f49046eca98b059ead0cc9d46911745179636b818a,satellite-image-classification:https%3A%2F%2Fstorage.googleapis.com%2Fkaggle-data-sets%2F1544742%2F2546969%2Fbundle%2Farchive.zip%3FX-Goog-Algorithm%3DGOOG4-RSA-SHA256%26X-Goog-Credential%3Dgcp-kaggle-com%2540kaggle-161607.iam.gserviceaccount.com%252F20240531%252Fauto%252Fstorage%252Fgoog4_request%26X-Goog-Date%3D20240531T143629Z%26X-Goog-Expires%3D259200%26X-Goog-SignedHeaders%3Dhost%26X-Goog-Signature%3D6d32d677987bb676aa84111c5b51f52abb1ee85688950356c33a204046c1c8a60f6efd34936cafdb28b65c11d90e7ca55ee1a03ae9836ba7f67df193a8be517da2d049c039227bfdaaf48e41e3dee41e78dced5fe61237820040eb72719d68b44b20970fc2950242a358dabcc1722161d9e99573bf0431af1ae2b5fe4732db4b9f924d79d4ec2514f49be817e4a4569c3f3df2fbb0662cc333206c9f841f06364828ae7ec2d90c4b921c693e246b2cb2198237bbb5583ff6852e984967e5d46f691ec95996410e8e8de50dd369148b20960403450c980de92ea0a8aedc9fcd299fac4ed861eae5f0da374a4c62fb1c8281ce3ca59b6e33695e3b2c1f153a1a34'\n",
        "\n",
        "KAGGLE_INPUT_PATH='/kaggle/input'\n",
        "KAGGLE_WORKING_PATH='/kaggle/working'\n",
        "KAGGLE_SYMLINK='kaggle'\n",
        "\n",
        "!umount /kaggle/input/ 2> /dev/null\n",
        "shutil.rmtree('/kaggle/input', ignore_errors=True)\n",
        "os.makedirs(KAGGLE_INPUT_PATH, 0o777, exist_ok=True)\n",
        "os.makedirs(KAGGLE_WORKING_PATH, 0o777, exist_ok=True)\n",
        "\n",
        "try:\n",
        "  os.symlink(KAGGLE_INPUT_PATH, os.path.join(\"..\", 'input'), target_is_directory=True)\n",
        "except FileExistsError:\n",
        "  pass\n",
        "try:\n",
        "  os.symlink(KAGGLE_WORKING_PATH, os.path.join(\"..\", 'working'), target_is_directory=True)\n",
        "except FileExistsError:\n",
        "  pass\n",
        "\n",
        "for data_source_mapping in DATA_SOURCE_MAPPING.split(','):\n",
        "    directory, download_url_encoded = data_source_mapping.split(':')\n",
        "    download_url = unquote(download_url_encoded)\n",
        "    filename = urlparse(download_url).path\n",
        "    destination_path = os.path.join(KAGGLE_INPUT_PATH, directory)\n",
        "    try:\n",
        "        with urlopen(download_url) as fileres, NamedTemporaryFile() as tfile:\n",
        "            total_length = fileres.headers['content-length']\n",
        "            print(f'Downloading {directory}, {total_length} bytes compressed')\n",
        "            dl = 0\n",
        "            data = fileres.read(CHUNK_SIZE)\n",
        "            while len(data) > 0:\n",
        "                dl += len(data)\n",
        "                tfile.write(data)\n",
        "                done = int(50 * dl / int(total_length))\n",
        "                sys.stdout.write(f\"\\r[{'=' * done}{' ' * (50-done)}] {dl} bytes downloaded\")\n",
        "                sys.stdout.flush()\n",
        "                data = fileres.read(CHUNK_SIZE)\n",
        "            if filename.endswith('.zip'):\n",
        "              with ZipFile(tfile) as zfile:\n",
        "                zfile.extractall(destination_path)\n",
        "            else:\n",
        "              with tarfile.open(tfile.name) as tarfile:\n",
        "                tarfile.extractall(destination_path)\n",
        "            print(f'\\nDownloaded and uncompressed: {directory}')\n",
        "    except HTTPError as e:\n",
        "        print(f'Failed to load (likely expired) {download_url} to path {destination_path}')\n",
        "        continue\n",
        "    except OSError as e:\n",
        "        print(f'Failed to load {download_url} to path {destination_path}')\n",
        "        continue\n",
        "\n",
        "print('Data source import complete.')\n"
      ],
      "metadata": {
        "id": "dISzLIwJFK85"
      },
      "cell_type": "code",
      "outputs": [],
      "execution_count": null
    },
    {
      "cell_type": "code",
      "source": [],
      "metadata": {
        "id": "SG6FcAZKFK88"
      },
      "execution_count": null,
      "outputs": []
    },
    {
      "cell_type": "code",
      "source": [
        "!pip install tensorflow==2.8.0"
      ],
      "metadata": {
        "execution": {
          "iopub.status.busy": "2024-04-24T18:03:50.682804Z",
          "iopub.execute_input": "2024-04-24T18:03:50.683237Z",
          "iopub.status.idle": "2024-04-24T18:04:03.108749Z",
          "shell.execute_reply.started": "2024-04-24T18:03:50.683207Z",
          "shell.execute_reply": "2024-04-24T18:04:03.107462Z"
        },
        "trusted": true,
        "id": "znZIjPZ6FK88",
        "outputId": "ab1c34e1-7b7d-4826-838d-d7e2bdb3b425"
      },
      "execution_count": null,
      "outputs": [
        {
          "name": "stdout",
          "text": "Requirement already satisfied: tensorflow==2.8.0 in /opt/conda/lib/python3.10/site-packages (2.8.0)\nRequirement already satisfied: absl-py>=0.4.0 in /opt/conda/lib/python3.10/site-packages (from tensorflow==2.8.0) (1.4.0)\nRequirement already satisfied: astunparse>=1.6.0 in /opt/conda/lib/python3.10/site-packages (from tensorflow==2.8.0) (1.6.3)\nRequirement already satisfied: flatbuffers>=1.12 in /opt/conda/lib/python3.10/site-packages (from tensorflow==2.8.0) (23.5.26)\nRequirement already satisfied: gast>=0.2.1 in /opt/conda/lib/python3.10/site-packages (from tensorflow==2.8.0) (0.4.0)\nRequirement already satisfied: google-pasta>=0.1.1 in /opt/conda/lib/python3.10/site-packages (from tensorflow==2.8.0) (0.2.0)\nRequirement already satisfied: h5py>=2.9.0 in /opt/conda/lib/python3.10/site-packages (from tensorflow==2.8.0) (3.9.0)\nRequirement already satisfied: keras-preprocessing>=1.1.1 in /opt/conda/lib/python3.10/site-packages (from tensorflow==2.8.0) (1.1.2)\nRequirement already satisfied: libclang>=9.0.1 in /opt/conda/lib/python3.10/site-packages (from tensorflow==2.8.0) (16.0.6)\nRequirement already satisfied: numpy>=1.20 in /opt/conda/lib/python3.10/site-packages (from tensorflow==2.8.0) (1.24.3)\nRequirement already satisfied: opt-einsum>=2.3.2 in /opt/conda/lib/python3.10/site-packages (from tensorflow==2.8.0) (3.3.0)\nRequirement already satisfied: protobuf>=3.9.2 in /opt/conda/lib/python3.10/site-packages (from tensorflow==2.8.0) (3.20.3)\nRequirement already satisfied: setuptools in /opt/conda/lib/python3.10/site-packages (from tensorflow==2.8.0) (68.1.2)\nRequirement already satisfied: six>=1.12.0 in /opt/conda/lib/python3.10/site-packages (from tensorflow==2.8.0) (1.16.0)\nRequirement already satisfied: termcolor>=1.1.0 in /opt/conda/lib/python3.10/site-packages (from tensorflow==2.8.0) (2.3.0)\nRequirement already satisfied: typing-extensions>=3.6.6 in /opt/conda/lib/python3.10/site-packages (from tensorflow==2.8.0) (4.5.0)\nRequirement already satisfied: wrapt>=1.11.0 in /opt/conda/lib/python3.10/site-packages (from tensorflow==2.8.0) (1.15.0)\nRequirement already satisfied: tensorboard<2.9,>=2.8 in /opt/conda/lib/python3.10/site-packages (from tensorflow==2.8.0) (2.8.0)\nRequirement already satisfied: tf-estimator-nightly==2.8.0.dev2021122109 in /opt/conda/lib/python3.10/site-packages (from tensorflow==2.8.0) (2.8.0.dev2021122109)\nRequirement already satisfied: keras<2.9,>=2.8.0rc0 in /opt/conda/lib/python3.10/site-packages (from tensorflow==2.8.0) (2.8.0)\nRequirement already satisfied: tensorflow-io-gcs-filesystem>=0.23.1 in /opt/conda/lib/python3.10/site-packages (from tensorflow==2.8.0) (0.34.0)\nRequirement already satisfied: grpcio<2.0,>=1.24.3 in /opt/conda/lib/python3.10/site-packages (from tensorflow==2.8.0) (1.51.1)\nRequirement already satisfied: wheel<1.0,>=0.23.0 in /opt/conda/lib/python3.10/site-packages (from astunparse>=1.6.0->tensorflow==2.8.0) (0.41.2)\nRequirement already satisfied: google-auth<3,>=1.6.3 in /opt/conda/lib/python3.10/site-packages (from tensorboard<2.9,>=2.8->tensorflow==2.8.0) (2.22.0)\nRequirement already satisfied: google-auth-oauthlib<0.5,>=0.4.1 in /opt/conda/lib/python3.10/site-packages (from tensorboard<2.9,>=2.8->tensorflow==2.8.0) (0.4.6)\nRequirement already satisfied: markdown>=2.6.8 in /opt/conda/lib/python3.10/site-packages (from tensorboard<2.9,>=2.8->tensorflow==2.8.0) (3.4.4)\nRequirement already satisfied: requests<3,>=2.21.0 in /opt/conda/lib/python3.10/site-packages (from tensorboard<2.9,>=2.8->tensorflow==2.8.0) (2.31.0)\nRequirement already satisfied: tensorboard-data-server<0.7.0,>=0.6.0 in /opt/conda/lib/python3.10/site-packages (from tensorboard<2.9,>=2.8->tensorflow==2.8.0) (0.6.1)\nRequirement already satisfied: tensorboard-plugin-wit>=1.6.0 in /opt/conda/lib/python3.10/site-packages (from tensorboard<2.9,>=2.8->tensorflow==2.8.0) (1.8.1)\nRequirement already satisfied: werkzeug>=0.11.15 in /opt/conda/lib/python3.10/site-packages (from tensorboard<2.9,>=2.8->tensorflow==2.8.0) (3.0.1)\nRequirement already satisfied: cachetools<6.0,>=2.0.0 in /opt/conda/lib/python3.10/site-packages (from google-auth<3,>=1.6.3->tensorboard<2.9,>=2.8->tensorflow==2.8.0) (4.2.4)\nRequirement already satisfied: pyasn1-modules>=0.2.1 in /opt/conda/lib/python3.10/site-packages (from google-auth<3,>=1.6.3->tensorboard<2.9,>=2.8->tensorflow==2.8.0) (0.2.7)\nRequirement already satisfied: rsa<5,>=3.1.4 in /opt/conda/lib/python3.10/site-packages (from google-auth<3,>=1.6.3->tensorboard<2.9,>=2.8->tensorflow==2.8.0) (4.9)\nRequirement already satisfied: urllib3<2.0 in /opt/conda/lib/python3.10/site-packages (from google-auth<3,>=1.6.3->tensorboard<2.9,>=2.8->tensorflow==2.8.0) (1.26.15)\nRequirement already satisfied: requests-oauthlib>=0.7.0 in /opt/conda/lib/python3.10/site-packages (from google-auth-oauthlib<0.5,>=0.4.1->tensorboard<2.9,>=2.8->tensorflow==2.8.0) (1.3.1)\nRequirement already satisfied: charset-normalizer<4,>=2 in /opt/conda/lib/python3.10/site-packages (from requests<3,>=2.21.0->tensorboard<2.9,>=2.8->tensorflow==2.8.0) (3.2.0)\nRequirement already satisfied: idna<4,>=2.5 in /opt/conda/lib/python3.10/site-packages (from requests<3,>=2.21.0->tensorboard<2.9,>=2.8->tensorflow==2.8.0) (3.4)\nRequirement already satisfied: certifi>=2017.4.17 in /opt/conda/lib/python3.10/site-packages (from requests<3,>=2.21.0->tensorboard<2.9,>=2.8->tensorflow==2.8.0) (2023.11.17)\nRequirement already satisfied: MarkupSafe>=2.1.1 in /opt/conda/lib/python3.10/site-packages (from werkzeug>=0.11.15->tensorboard<2.9,>=2.8->tensorflow==2.8.0) (2.1.3)\nRequirement already satisfied: pyasn1<0.5.0,>=0.4.6 in /opt/conda/lib/python3.10/site-packages (from pyasn1-modules>=0.2.1->google-auth<3,>=1.6.3->tensorboard<2.9,>=2.8->tensorflow==2.8.0) (0.4.8)\nRequirement already satisfied: oauthlib>=3.0.0 in /opt/conda/lib/python3.10/site-packages (from requests-oauthlib>=0.7.0->google-auth-oauthlib<0.5,>=0.4.1->tensorboard<2.9,>=2.8->tensorflow==2.8.0) (3.2.2)\n",
          "output_type": "stream"
        }
      ]
    },
    {
      "cell_type": "code",
      "source": [
        "import tensorflow as tf\n",
        "from tensorflow.keras.models import Sequential\n",
        "from tensorflow.keras.layers import Dense\n",
        "print(\"TensorFlow version:\", tf.__version__)\n",
        "from tensorflow.keras.models import Sequential\n",
        "from tensorflow.keras.layers import Conv2D, MaxPooling2D, Flatten, Dense\n",
        "from tensorflow.keras.optimizers import Adam  # For optimizer\n",
        "from tensorflow.keras.losses import CategoricalCrossentropy  # For loss function\n",
        "\n",
        "# Optional imports depending on your data preprocessing\n",
        "from tensorflow.keras.preprocessing.image import ImageDataGenerator  # For image data augmentation\n",
        "\n",
        "\n"
      ],
      "metadata": {
        "execution": {
          "iopub.status.busy": "2024-04-24T18:04:03.111551Z",
          "iopub.execute_input": "2024-04-24T18:04:03.111989Z",
          "iopub.status.idle": "2024-04-24T18:04:03.119458Z",
          "shell.execute_reply.started": "2024-04-24T18:04:03.111948Z",
          "shell.execute_reply": "2024-04-24T18:04:03.118636Z"
        },
        "trusted": true,
        "id": "LWs6Q8gbFK89",
        "outputId": "6216ee32-907f-494b-d811-4b3c436d3469"
      },
      "execution_count": null,
      "outputs": [
        {
          "name": "stdout",
          "text": "TensorFlow version: 2.8.0\n",
          "output_type": "stream"
        }
      ]
    },
    {
      "cell_type": "code",
      "source": [
        "tf.__version__"
      ],
      "metadata": {
        "execution": {
          "iopub.status.busy": "2024-04-24T18:04:03.120486Z",
          "iopub.execute_input": "2024-04-24T18:04:03.120785Z",
          "iopub.status.idle": "2024-04-24T18:04:03.136096Z",
          "shell.execute_reply.started": "2024-04-24T18:04:03.120762Z",
          "shell.execute_reply": "2024-04-24T18:04:03.135149Z"
        },
        "trusted": true,
        "id": "iTz8bspmFK89",
        "outputId": "3200254e-b084-4866-f51d-b7f316081bce"
      },
      "execution_count": null,
      "outputs": [
        {
          "execution_count": 7,
          "output_type": "execute_result",
          "data": {
            "text/plain": "'2.8.0'"
          },
          "metadata": {}
        }
      ]
    },
    {
      "cell_type": "code",
      "source": [
        "gpu_available = tf.config.list_physical_devices('GPU')\n",
        "if gpu_available:\n",
        "    print(\"GPU is available\")\n",
        "else:\n",
        "    print(\"GPU is not available\")"
      ],
      "metadata": {
        "execution": {
          "iopub.status.busy": "2024-04-24T18:04:03.137349Z",
          "iopub.execute_input": "2024-04-24T18:04:03.13768Z",
          "iopub.status.idle": "2024-04-24T18:04:03.14768Z",
          "shell.execute_reply.started": "2024-04-24T18:04:03.137655Z",
          "shell.execute_reply": "2024-04-24T18:04:03.146725Z"
        },
        "trusted": true,
        "id": "DgTa-UhzFK8-",
        "outputId": "90e8b0a7-52d0-40f6-b143-1f325f02edb9"
      },
      "execution_count": null,
      "outputs": [
        {
          "name": "stdout",
          "text": "GPU is available\n",
          "output_type": "stream"
        }
      ]
    },
    {
      "cell_type": "code",
      "source": [
        "# import numpy as np\n",
        "# import pandas as pd\n",
        "# import io\n",
        "# import os\n",
        "# from matplotlib import image as mpimg\n",
        "# import matplotlib.pyplot as plt\n",
        "# import seaborn\n",
        "# import tensorflow as tf\n",
        "# from tensorflow.keras.preprocessing.image import ImageDataGenerator\n",
        "# from tensorflow.keras.preprocessing import image_dataset_from_directory\n",
        "# from sklearn.metrics import confusion_matrix, classification_report\n",
        "\n",
        "# import warnings\n",
        "# warnings.filterwarnings('ignore')\n"
      ],
      "metadata": {
        "execution": {
          "iopub.status.busy": "2024-04-24T18:04:03.150986Z",
          "iopub.execute_input": "2024-04-24T18:04:03.151275Z",
          "iopub.status.idle": "2024-04-24T18:04:03.16091Z",
          "shell.execute_reply.started": "2024-04-24T18:04:03.151251Z",
          "shell.execute_reply": "2024-04-24T18:04:03.159981Z"
        },
        "trusted": true,
        "id": "zy5ibJaUFK8-"
      },
      "execution_count": null,
      "outputs": []
    },
    {
      "cell_type": "code",
      "source": [
        "# data_dir = '/kaggle/input/satellite-image-classification/data'\n",
        "# labels = os.listdir(data_dir)\n",
        "# labels"
      ],
      "metadata": {
        "execution": {
          "iopub.status.busy": "2024-04-24T18:04:03.162246Z",
          "iopub.execute_input": "2024-04-24T18:04:03.162973Z",
          "iopub.status.idle": "2024-04-24T18:04:03.176606Z",
          "shell.execute_reply.started": "2024-04-24T18:04:03.162944Z",
          "shell.execute_reply": "2024-04-24T18:04:03.175617Z"
        },
        "trusted": true,
        "id": "9hsS_z1GFK8-"
      },
      "execution_count": null,
      "outputs": []
    },
    {
      "cell_type": "code",
      "source": [
        "\n",
        "# train_dataset = image_dataset_from_directory('../input/satellite-image-classification/data',\n",
        "#                                              shuffle=True,\n",
        "#                                              batch_size=32,image_size=(224,224))\n",
        "# class_name =  train_dataset.class_names\n",
        "# plt.figure(figsize = (10,10))\n",
        "# for image , label in train_dataset.take(1):\n",
        "#     for i in range(9) :\n",
        "#         plt.subplot(3,3,i+1)\n",
        "#         plt.imshow(image[i].numpy().astype(\"uint8\"))\n",
        "#         plt.title(class_name[label[i]])\n",
        "#         plt.axis(\"off\")"
      ],
      "metadata": {
        "execution": {
          "iopub.status.busy": "2024-04-24T18:04:03.177912Z",
          "iopub.execute_input": "2024-04-24T18:04:03.1782Z",
          "iopub.status.idle": "2024-04-24T18:04:03.186881Z",
          "shell.execute_reply.started": "2024-04-24T18:04:03.178175Z",
          "shell.execute_reply": "2024-04-24T18:04:03.185931Z"
        },
        "trusted": true,
        "id": "JUwpeHFnFK8-"
      },
      "execution_count": null,
      "outputs": []
    },
    {
      "cell_type": "code",
      "source": [
        "# img_width, img_height = 224, 224\n",
        "# target_size = (img_width,img_height)\n",
        "# batch_size = 32"
      ],
      "metadata": {
        "execution": {
          "iopub.status.busy": "2024-04-24T18:04:03.188198Z",
          "iopub.execute_input": "2024-04-24T18:04:03.18885Z",
          "iopub.status.idle": "2024-04-24T18:04:03.196185Z",
          "shell.execute_reply.started": "2024-04-24T18:04:03.188815Z",
          "shell.execute_reply": "2024-04-24T18:04:03.195382Z"
        },
        "trusted": true,
        "id": "M1i7rQieFK8_"
      },
      "execution_count": null,
      "outputs": []
    },
    {
      "cell_type": "code",
      "source": [
        "# #Create a data generator for image augmentation\n",
        "# datagen = ImageDataGenerator( samplewise_center=True,  # set each sample mean to 0\n",
        "#                              rotation_range=10,  # randomly rotate images in the range (degrees, 0 to 180)\n",
        "#                              zoom_range = 0.1, # Randomly zoom imag\n",
        "#                              width_shift_range=0.1,  # randomly shift images horizontally (fraction of total width)\n",
        "#                              height_shift_range=0.1,  # randomly shift images vertically (fraction of total height)\n",
        "#                              horizontal_flip=True,  # randomly flip images\n",
        "#                              vertical_flip=False,\n",
        "#                              rescale=1./255,#scale images\n",
        "#                              validation_split=0.2) #split data, 80% for training and 20% for testing\n",
        "\n",
        "\n",
        "# #create training set from folders\n",
        "# train_data=datagen.flow_from_directory(data_dir,\n",
        "#                                        target_size=(target_size),\n",
        "#                                        batch_size=batch_size,\n",
        "#                                        class_mode='categorical',\n",
        "#                                        shuffle=True,subset='training')\n",
        "\n",
        "# #create test set\n",
        "# test_data=datagen.flow_from_directory(data_dir,\n",
        "#                                        target_size=(target_size),\n",
        "#                                        batch_size=batch_size,\n",
        "#                                        class_mode='categorical',\n",
        "#                                        shuffle=False,subset='validation')"
      ],
      "metadata": {
        "execution": {
          "iopub.status.busy": "2024-04-24T18:04:03.197263Z",
          "iopub.execute_input": "2024-04-24T18:04:03.197527Z",
          "iopub.status.idle": "2024-04-24T18:04:03.207469Z",
          "shell.execute_reply.started": "2024-04-24T18:04:03.197497Z",
          "shell.execute_reply": "2024-04-24T18:04:03.206618Z"
        },
        "trusted": true,
        "id": "d8ClYDHNFK8_"
      },
      "execution_count": null,
      "outputs": []
    },
    {
      "cell_type": "code",
      "source": [
        "# input_shape=(224,224,3)"
      ],
      "metadata": {
        "execution": {
          "iopub.status.busy": "2024-04-24T18:04:03.208543Z",
          "iopub.execute_input": "2024-04-24T18:04:03.208833Z",
          "iopub.status.idle": "2024-04-24T18:04:03.220416Z",
          "shell.execute_reply.started": "2024-04-24T18:04:03.208808Z",
          "shell.execute_reply": "2024-04-24T18:04:03.219451Z"
        },
        "trusted": true,
        "id": "FzdXCyr_FK8_"
      },
      "execution_count": null,
      "outputs": []
    },
    {
      "cell_type": "code",
      "source": [
        "# def custom_net(input_shape):#custnet_1\n",
        "#     model = Sequential([\n",
        "#       Conv2D(32, (3, 3), activation='relu', input_shape=input_shape),\n",
        "#       MaxPooling2D((2, 2)),\n",
        "#       Conv2D(64, (3, 3), activation='relu'),\n",
        "#       MaxPooling2D((2, 2)),\n",
        "#       Conv2D(128, (3, 3), activation='relu'),\n",
        "#       MaxPooling2D((2, 2)),\n",
        "\n",
        "#       Flatten(),\n",
        "\n",
        "#       Dense(64, activation='relu'),\n",
        "#       Dense(32, activation='relu'),\n",
        "#       Dense(16, activation='relu'),\n",
        "#       Dense(4, activation='softmax')\n",
        "#   ])\n",
        "\n",
        "#     model.compile(loss='categorical_crossentropy', optimizer='adam', metrics=['accuracy'])\n",
        "#     return model\n"
      ],
      "metadata": {
        "execution": {
          "iopub.status.busy": "2024-04-24T18:04:03.221739Z",
          "iopub.execute_input": "2024-04-24T18:04:03.222045Z",
          "iopub.status.idle": "2024-04-24T18:04:03.229688Z",
          "shell.execute_reply.started": "2024-04-24T18:04:03.22202Z",
          "shell.execute_reply": "2024-04-24T18:04:03.228663Z"
        },
        "trusted": true,
        "id": "NMiOeQ9yFK8_"
      },
      "execution_count": null,
      "outputs": []
    },
    {
      "cell_type": "code",
      "source": [
        "# def custom_net(input_shape=(224, 224, 3)):#custnet_2\n",
        "#     model = Sequential([\n",
        "#       Conv2D(64, (7, 7), activation='relu', input_shape=input_shape),\n",
        "#       MaxPooling2D((2, 2)),\n",
        "#       Flatten(),\n",
        "#       Dense(4, activation='softmax')  # 4 classes for output\n",
        "#   ])\n",
        "\n",
        "#   # Compile the model\n",
        "#     model.compile(loss='categorical_crossentropy', optimizer='adam', metrics=['accuracy'])\n",
        "\n",
        "#     return model\n"
      ],
      "metadata": {
        "execution": {
          "iopub.status.busy": "2024-04-24T18:04:03.230877Z",
          "iopub.execute_input": "2024-04-24T18:04:03.231198Z",
          "iopub.status.idle": "2024-04-24T18:04:03.244768Z",
          "shell.execute_reply.started": "2024-04-24T18:04:03.231171Z",
          "shell.execute_reply": "2024-04-24T18:04:03.243827Z"
        },
        "trusted": true,
        "id": "bks_U8gLFK8_"
      },
      "execution_count": null,
      "outputs": []
    },
    {
      "cell_type": "code",
      "source": [
        "# model = custom_net(input_shape)\n",
        "\n",
        "# # Compile the model\n"
      ],
      "metadata": {
        "execution": {
          "iopub.status.busy": "2024-04-24T18:04:03.245921Z",
          "iopub.execute_input": "2024-04-24T18:04:03.246232Z",
          "iopub.status.idle": "2024-04-24T18:04:03.25479Z",
          "shell.execute_reply.started": "2024-04-24T18:04:03.246208Z",
          "shell.execute_reply": "2024-04-24T18:04:03.253933Z"
        },
        "trusted": true,
        "id": "cPLnxJkTFK9A"
      },
      "execution_count": null,
      "outputs": []
    },
    {
      "cell_type": "code",
      "source": [
        "# history = model.fit(train_data,\n",
        "#                     epochs=20,\n",
        "#                     validation_data=test_data,\n",
        "#                     verbose=1)"
      ],
      "metadata": {
        "execution": {
          "iopub.status.busy": "2024-04-24T18:04:03.260349Z",
          "iopub.execute_input": "2024-04-24T18:04:03.260908Z",
          "iopub.status.idle": "2024-04-24T18:04:03.265066Z",
          "shell.execute_reply.started": "2024-04-24T18:04:03.260882Z",
          "shell.execute_reply": "2024-04-24T18:04:03.264163Z"
        },
        "trusted": true,
        "id": "-yd0g84JFK9A"
      },
      "execution_count": null,
      "outputs": []
    },
    {
      "cell_type": "code",
      "source": [
        "# model.summary()"
      ],
      "metadata": {
        "execution": {
          "iopub.status.busy": "2024-04-24T18:04:03.266274Z",
          "iopub.execute_input": "2024-04-24T18:04:03.266627Z",
          "iopub.status.idle": "2024-04-24T18:04:03.273708Z",
          "shell.execute_reply.started": "2024-04-24T18:04:03.266595Z",
          "shell.execute_reply": "2024-04-24T18:04:03.272859Z"
        },
        "trusted": true,
        "id": "cXXOh59DFK9A"
      },
      "execution_count": null,
      "outputs": []
    },
    {
      "cell_type": "code",
      "source": [
        "# model.evaluate(test_data)\n"
      ],
      "metadata": {
        "execution": {
          "iopub.status.busy": "2024-04-24T18:04:03.274681Z",
          "iopub.execute_input": "2024-04-24T18:04:03.274951Z",
          "iopub.status.idle": "2024-04-24T18:04:03.283675Z",
          "shell.execute_reply.started": "2024-04-24T18:04:03.274928Z",
          "shell.execute_reply": "2024-04-24T18:04:03.28272Z"
        },
        "trusted": true,
        "id": "qFv6EjJ4FK9A"
      },
      "execution_count": null,
      "outputs": []
    },
    {
      "cell_type": "code",
      "source": [
        "# model.save('custnet.h5')"
      ],
      "metadata": {
        "execution": {
          "iopub.status.busy": "2024-04-24T18:04:03.285159Z",
          "iopub.execute_input": "2024-04-24T18:04:03.285504Z",
          "iopub.status.idle": "2024-04-24T18:04:03.293805Z",
          "shell.execute_reply.started": "2024-04-24T18:04:03.285478Z",
          "shell.execute_reply": "2024-04-24T18:04:03.292896Z"
        },
        "trusted": true,
        "id": "7q9qwla8FK9A"
      },
      "execution_count": null,
      "outputs": []
    },
    {
      "cell_type": "markdown",
      "source": [
        "RESNET\n"
      ],
      "metadata": {
        "id": "bHIyy6BPFK9A"
      }
    },
    {
      "cell_type": "code",
      "source": [
        "# import numpy as np\n",
        "# import pandas as pd\n",
        "# import io\n",
        "# import os\n",
        "# from matplotlib import image as mpimg\n",
        "# import matplotlib.pyplot as plt\n",
        "# import seaborn\n",
        "# import tensorflow as tf\n",
        "# from tensorflow.keras.preprocessing.image import ImageDataGenerator\n",
        "# from tensorflow.keras.preprocessing import image_dataset_from_directory\n",
        "# from sklearn.metrics import confusion_matrix, classification_report\n",
        "\n",
        "# import warnings\n",
        "# warnings.filterwarnings('ignore')\n"
      ],
      "metadata": {
        "execution": {
          "iopub.status.busy": "2024-04-24T18:04:03.295064Z",
          "iopub.execute_input": "2024-04-24T18:04:03.295846Z",
          "iopub.status.idle": "2024-04-24T18:04:03.30344Z",
          "shell.execute_reply.started": "2024-04-24T18:04:03.295813Z",
          "shell.execute_reply": "2024-04-24T18:04:03.302498Z"
        },
        "trusted": true,
        "id": "UCQquYnfFK9B"
      },
      "execution_count": null,
      "outputs": []
    },
    {
      "cell_type": "code",
      "source": [
        "# import tensorflow as tf\n",
        "# from tensorflow.keras.applications import ResNet50\n",
        "# from tensorflow.keras.layers import Dense, Flatten\n",
        "# from tensorflow.keras.models import Model, Sequential\n",
        "\n",
        "# resnet_base_model = ResNet50(include_top=False, weights='imagenet', input_shape=(224, 224, 3))\n",
        "\n",
        "# for layer in resnet_base_model.layers:\n",
        "#     layer.trainable = False\n",
        "\n",
        "# resnet_base_model = Model(inputs=resnet_base_model.input, outputs=resnet_base_model.layers[-1].output)"
      ],
      "metadata": {
        "execution": {
          "iopub.status.busy": "2024-04-24T18:04:03.304749Z",
          "iopub.execute_input": "2024-04-24T18:04:03.305051Z",
          "iopub.status.idle": "2024-04-24T18:04:03.315649Z",
          "shell.execute_reply.started": "2024-04-24T18:04:03.305027Z",
          "shell.execute_reply": "2024-04-24T18:04:03.314749Z"
        },
        "trusted": true,
        "id": "dBMwFikFFK9B"
      },
      "execution_count": null,
      "outputs": []
    },
    {
      "cell_type": "code",
      "source": [
        "# resnet_model = Sequential()\n",
        "# resnet_model.add(resnet_base_model)\n",
        "# resnet_model.add(Flatten())\n",
        "# resnet_model.add(Dense(4, activation='sigmoid'))"
      ],
      "metadata": {
        "execution": {
          "iopub.status.busy": "2024-04-24T18:04:03.316849Z",
          "iopub.execute_input": "2024-04-24T18:04:03.317157Z",
          "iopub.status.idle": "2024-04-24T18:04:03.32812Z",
          "shell.execute_reply.started": "2024-04-24T18:04:03.317124Z",
          "shell.execute_reply": "2024-04-24T18:04:03.326988Z"
        },
        "trusted": true,
        "id": "_S5RQOpDFK9B"
      },
      "execution_count": null,
      "outputs": []
    },
    {
      "cell_type": "code",
      "source": [
        "# resnet_model.compile(optimizer='adam', loss='categorical_crossentropy', metrics=['accuracy'])\n",
        "\n",
        "# # Define early stopping callback\n",
        "# early = tf.keras.callbacks.EarlyStopping(monitor='val_loss', patience=5, restore_best_weights=True)\n"
      ],
      "metadata": {
        "execution": {
          "iopub.status.busy": "2024-04-24T18:04:03.329115Z",
          "iopub.execute_input": "2024-04-24T18:04:03.329398Z",
          "iopub.status.idle": "2024-04-24T18:04:03.337197Z",
          "shell.execute_reply.started": "2024-04-24T18:04:03.329373Z",
          "shell.execute_reply": "2024-04-24T18:04:03.336245Z"
        },
        "trusted": true,
        "id": "wBCN0v2_FK9B"
      },
      "execution_count": null,
      "outputs": []
    },
    {
      "cell_type": "code",
      "source": [
        "# resnet_history = resnet_model.fit(train_data,\n",
        "#                                   validation_data=test_data,\n",
        "#                                   epochs=40)"
      ],
      "metadata": {
        "execution": {
          "iopub.status.busy": "2024-04-24T18:04:03.338469Z",
          "iopub.execute_input": "2024-04-24T18:04:03.338761Z",
          "iopub.status.idle": "2024-04-24T18:04:03.347195Z",
          "shell.execute_reply.started": "2024-04-24T18:04:03.338737Z",
          "shell.execute_reply": "2024-04-24T18:04:03.346391Z"
        },
        "trusted": true,
        "id": "T-bmHUxQFK9B"
      },
      "execution_count": null,
      "outputs": []
    },
    {
      "cell_type": "code",
      "source": [
        "# resnet_model.evaluate(test_data)\n"
      ],
      "metadata": {
        "execution": {
          "iopub.status.busy": "2024-04-24T18:04:03.348369Z",
          "iopub.execute_input": "2024-04-24T18:04:03.348688Z",
          "iopub.status.idle": "2024-04-24T18:04:03.357695Z",
          "shell.execute_reply.started": "2024-04-24T18:04:03.348663Z",
          "shell.execute_reply": "2024-04-24T18:04:03.356787Z"
        },
        "trusted": true,
        "id": "z_rMervyFK9B"
      },
      "execution_count": null,
      "outputs": []
    },
    {
      "cell_type": "code",
      "source": [
        "# resnet_model.summary()"
      ],
      "metadata": {
        "execution": {
          "iopub.status.busy": "2024-04-24T18:04:03.359004Z",
          "iopub.execute_input": "2024-04-24T18:04:03.359641Z",
          "iopub.status.idle": "2024-04-24T18:04:03.369534Z",
          "shell.execute_reply.started": "2024-04-24T18:04:03.359607Z",
          "shell.execute_reply": "2024-04-24T18:04:03.368627Z"
        },
        "trusted": true,
        "id": "LTdIlIAnFK9C"
      },
      "execution_count": null,
      "outputs": []
    },
    {
      "cell_type": "code",
      "source": [
        "\n",
        "# resnet_model.save('resnet_model.h5')"
      ],
      "metadata": {
        "execution": {
          "iopub.status.busy": "2024-04-24T18:04:03.370795Z",
          "iopub.execute_input": "2024-04-24T18:04:03.371189Z",
          "iopub.status.idle": "2024-04-24T18:04:03.378239Z",
          "shell.execute_reply.started": "2024-04-24T18:04:03.371163Z",
          "shell.execute_reply": "2024-04-24T18:04:03.377308Z"
        },
        "trusted": true,
        "id": "ozuyLFItFK9C"
      },
      "execution_count": null,
      "outputs": []
    },
    {
      "cell_type": "code",
      "source": [
        "import os\n",
        "\n",
        "import numpy as np\n",
        "import pandas as pd\n",
        "\n",
        "from matplotlib import pyplot as plt\n",
        "from matplotlib import image\n",
        "import seaborn as sns\n",
        "\n",
        "from sklearn.metrics import confusion_matrix\n",
        "from keras.preprocessing.image import ImageDataGenerator\n",
        "from keras.applications.vgg16 import VGG16\n",
        "from keras.models import Sequential\n",
        "from keras.layers import Dense, Dropout, Flatten\n",
        "from keras.callbacks import ModelCheckpoint, EarlyStopping, ReduceLROnPlateau\n",
        "from tensorflow.keras.optimizers import Adam"
      ],
      "metadata": {
        "execution": {
          "iopub.status.busy": "2024-04-24T18:04:03.379516Z",
          "iopub.execute_input": "2024-04-24T18:04:03.380148Z",
          "iopub.status.idle": "2024-04-24T18:04:03.949241Z",
          "shell.execute_reply.started": "2024-04-24T18:04:03.380115Z",
          "shell.execute_reply": "2024-04-24T18:04:03.94831Z"
        },
        "trusted": true,
        "id": "UOoZwmQwFK9C"
      },
      "execution_count": null,
      "outputs": []
    },
    {
      "cell_type": "code",
      "source": [
        "os.environ[\"TF_CPP_MIN_LOG_LEVEL\"] = \"3\" # Block Numa warning"
      ],
      "metadata": {
        "execution": {
          "iopub.status.busy": "2024-04-24T18:04:03.950785Z",
          "iopub.execute_input": "2024-04-24T18:04:03.951503Z",
          "iopub.status.idle": "2024-04-24T18:04:03.956301Z",
          "shell.execute_reply.started": "2024-04-24T18:04:03.951465Z",
          "shell.execute_reply": "2024-04-24T18:04:03.955363Z"
        },
        "trusted": true,
        "id": "F8QT1tCxFK9C"
      },
      "execution_count": null,
      "outputs": []
    },
    {
      "cell_type": "code",
      "source": [
        "input_folder = \"/kaggle/input/\"\n",
        "dataset_folder = input_folder + \"eurosat-dataset/\" + \"EuroSAT/\""
      ],
      "metadata": {
        "execution": {
          "iopub.status.busy": "2024-04-24T18:04:03.957664Z",
          "iopub.execute_input": "2024-04-24T18:04:03.958028Z",
          "iopub.status.idle": "2024-04-24T18:04:03.967934Z",
          "shell.execute_reply.started": "2024-04-24T18:04:03.957994Z",
          "shell.execute_reply": "2024-04-24T18:04:03.96705Z"
        },
        "trusted": true,
        "id": "EFbR6bfrFK9C"
      },
      "execution_count": null,
      "outputs": []
    },
    {
      "cell_type": "code",
      "source": [
        "column_names =  [\"id\", \"path\", \"class_id\", \"class_name\"]\n",
        "\n",
        "training_df = pd.read_csv(dataset_folder + \"train.csv\", names=column_names)\n",
        "validation_df = pd.read_csv(dataset_folder + \"validation.csv\", names=column_names)\n",
        "test_df = pd.read_csv(dataset_folder + \"test.csv\", names=column_names)"
      ],
      "metadata": {
        "execution": {
          "iopub.status.busy": "2024-04-24T18:04:03.969299Z",
          "iopub.execute_input": "2024-04-24T18:04:03.969691Z",
          "iopub.status.idle": "2024-04-24T18:04:04.079681Z",
          "shell.execute_reply.started": "2024-04-24T18:04:03.969665Z",
          "shell.execute_reply": "2024-04-24T18:04:04.078565Z"
        },
        "trusted": true,
        "id": "mmd7crXYFK9C"
      },
      "execution_count": null,
      "outputs": []
    },
    {
      "cell_type": "code",
      "source": [
        "training_df_size = len(training_df)\n",
        "validation_df_size = len(validation_df)\n",
        "test_df_size = len(test_df)\n",
        "\n",
        "total_dataset_size = training_df_size + validation_df_size + test_df_size\n",
        "\n",
        "print(f\"Training set size: {training_df_size} ({round(training_df_size / total_dataset_size * 100)}%)\")\n",
        "print(f\"Validation set size: {validation_df_size} ({round(validation_df_size / total_dataset_size * 100)}%)\")\n",
        "print(f\"Test set size: {test_df_size} ({round(test_df_size / total_dataset_size * 100)}%)\")"
      ],
      "metadata": {
        "execution": {
          "iopub.status.busy": "2024-04-24T18:04:04.080853Z",
          "iopub.execute_input": "2024-04-24T18:04:04.081193Z",
          "iopub.status.idle": "2024-04-24T18:04:04.08818Z",
          "shell.execute_reply.started": "2024-04-24T18:04:04.081165Z",
          "shell.execute_reply": "2024-04-24T18:04:04.087045Z"
        },
        "trusted": true,
        "id": "jBc1rFaFFK9C",
        "outputId": "a09062a6-1a2f-40a6-c1d8-21c62c975379"
      },
      "execution_count": null,
      "outputs": [
        {
          "name": "stdout",
          "text": "Training set size: 18901 (70%)\nValidation set size: 5401 (20%)\nTest set size: 2701 (10%)\n",
          "output_type": "stream"
        }
      ]
    },
    {
      "cell_type": "code",
      "source": [
        "rescaling_factor = 1. / 255\n"
      ],
      "metadata": {
        "execution": {
          "iopub.status.busy": "2024-04-24T18:04:04.089294Z",
          "iopub.execute_input": "2024-04-24T18:04:04.089626Z",
          "iopub.status.idle": "2024-04-24T18:04:04.099025Z",
          "shell.execute_reply.started": "2024-04-24T18:04:04.089592Z",
          "shell.execute_reply": "2024-04-24T18:04:04.097977Z"
        },
        "trusted": true,
        "id": "NnO8RwJ3FK9C"
      },
      "execution_count": null,
      "outputs": []
    },
    {
      "cell_type": "code",
      "source": [
        "training_generator = ImageDataGenerator(rescale=rescaling_factor)\n",
        "test_generator = ImageDataGenerator(rescale=rescaling_factor)"
      ],
      "metadata": {
        "execution": {
          "iopub.status.busy": "2024-04-24T18:04:04.100448Z",
          "iopub.execute_input": "2024-04-24T18:04:04.10086Z",
          "iopub.status.idle": "2024-04-24T18:04:04.10931Z",
          "shell.execute_reply.started": "2024-04-24T18:04:04.100827Z",
          "shell.execute_reply": "2024-04-24T18:04:04.108482Z"
        },
        "trusted": true,
        "id": "chRHI0z5FK9C"
      },
      "execution_count": null,
      "outputs": []
    },
    {
      "cell_type": "code",
      "source": [
        "image_width = 224\n",
        "image_height = 224\n",
        "batch_size = 128"
      ],
      "metadata": {
        "execution": {
          "iopub.status.busy": "2024-04-24T18:04:04.110698Z",
          "iopub.execute_input": "2024-04-24T18:04:04.110997Z",
          "iopub.status.idle": "2024-04-24T18:04:04.12038Z",
          "shell.execute_reply.started": "2024-04-24T18:04:04.110972Z",
          "shell.execute_reply": "2024-04-24T18:04:04.119476Z"
        },
        "trusted": true,
        "id": "gWJkXhvjFK9D"
      },
      "execution_count": null,
      "outputs": []
    },
    {
      "cell_type": "code",
      "source": [
        "training_set = training_generator.flow_from_dataframe(\n",
        "    dataframe=training_df,\n",
        "    x_col=\"path\",\n",
        "    y_col=\"class_name\",\n",
        "    directory=dataset_folder,\n",
        "    target_size=(image_height, image_width),\n",
        "    batch_size=batch_size,\n",
        "    class_mode=\"categorical\",\n",
        "    shuffle=\"true\",\n",
        ")\n",
        "\n",
        "validation_set = test_generator.flow_from_dataframe(\n",
        "    dataframe=validation_df,\n",
        "    x_col=\"path\",\n",
        "    y_col=\"class_name\",\n",
        "    directory=dataset_folder,\n",
        "    target_size=(image_height, image_width),\n",
        "    batch_size=batch_size,\n",
        "    class_mode=\"categorical\",\n",
        "    shuffle=\"true\",\n",
        ")\n",
        "\n",
        "test_set = test_generator.flow_from_dataframe(\n",
        "    dataframe=test_df,\n",
        "    x_col=\"path\",\n",
        "    y_col=\"class_name\",\n",
        "    directory=dataset_folder,\n",
        "    target_size=(image_height, image_width),\n",
        "    batch_size=batch_size,\n",
        "    class_mode=\"categorical\",\n",
        "    shuffle=False\n",
        ")"
      ],
      "metadata": {
        "execution": {
          "iopub.status.busy": "2024-04-24T18:04:04.121949Z",
          "iopub.execute_input": "2024-04-24T18:04:04.122299Z",
          "iopub.status.idle": "2024-04-24T18:05:31.102702Z",
          "shell.execute_reply.started": "2024-04-24T18:04:04.122266Z",
          "shell.execute_reply": "2024-04-24T18:05:31.101705Z"
        },
        "trusted": true,
        "id": "ZnOGAR0hFK9D",
        "outputId": "a79d3157-6d74-4413-b03c-bb36da63722b"
      },
      "execution_count": null,
      "outputs": [
        {
          "name": "stderr",
          "text": "/opt/conda/lib/python3.10/site-packages/keras_preprocessing/image/dataframe_iterator.py:279: UserWarning: Found 1 invalid image filename(s) in x_col=\"path\". These filename(s) will be ignored.\n  warnings.warn(\n",
          "output_type": "stream"
        },
        {
          "name": "stdout",
          "text": "Found 18900 validated image filenames belonging to 10 classes.\n",
          "output_type": "stream"
        },
        {
          "name": "stderr",
          "text": "/opt/conda/lib/python3.10/site-packages/keras_preprocessing/image/dataframe_iterator.py:279: UserWarning: Found 1 invalid image filename(s) in x_col=\"path\". These filename(s) will be ignored.\n  warnings.warn(\n",
          "output_type": "stream"
        },
        {
          "name": "stdout",
          "text": "Found 5400 validated image filenames belonging to 10 classes.\nFound 2700 validated image filenames belonging to 10 classes.\n",
          "output_type": "stream"
        },
        {
          "name": "stderr",
          "text": "/opt/conda/lib/python3.10/site-packages/keras_preprocessing/image/dataframe_iterator.py:279: UserWarning: Found 1 invalid image filename(s) in x_col=\"path\". These filename(s) will be ignored.\n  warnings.warn(\n",
          "output_type": "stream"
        }
      ]
    },
    {
      "cell_type": "code",
      "source": [
        "class_name_list = np.array(list(training_set.class_indices.keys()))\n",
        "labels, count = np.unique(training_set.classes, return_counts=True)\n",
        "\n",
        "print(pd.Series(count, index=class_name_list))"
      ],
      "metadata": {
        "execution": {
          "iopub.status.busy": "2024-04-24T18:05:31.103756Z",
          "iopub.execute_input": "2024-04-24T18:05:31.104034Z",
          "iopub.status.idle": "2024-04-24T18:05:31.116456Z",
          "shell.execute_reply.started": "2024-04-24T18:05:31.104003Z",
          "shell.execute_reply": "2024-04-24T18:05:31.115349Z"
        },
        "trusted": true,
        "id": "8R4N02lWFK9D",
        "outputId": "6e992e8c-bd23-4a99-a3e5-67b684917b38"
      },
      "execution_count": null,
      "outputs": [
        {
          "name": "stdout",
          "text": "AnnualCrop              2100\nForest                  2100\nHerbaceousVegetation    2100\nHighway                 1750\nIndustrial              1750\nPasture                 1400\nPermanentCrop           1750\nResidential             2100\nRiver                   1750\nSeaLake                 2100\ndtype: int64\n",
          "output_type": "stream"
        }
      ]
    },
    {
      "cell_type": "code",
      "source": [],
      "metadata": {
        "trusted": true,
        "id": "68zj4tO1FK9D"
      },
      "execution_count": null,
      "outputs": []
    },
    {
      "cell_type": "code",
      "source": [
        "#accuracy 90%\n",
        "# import tensorflow as tf\n",
        "# from tensorflow.keras import layers, models\n",
        "\n",
        "# input_shape = (224, 224, 3)\n",
        "# n_classes = 10\n",
        "\n",
        "# img_input = tf.keras.Input(shape=input_shape)\n",
        "\n",
        "# x1 = layers.Conv2D(32, kernel_size=(3, 3), activation='relu', padding='same')(img_input)\n",
        "# x2 = layers.MaxPooling2D((2, 2))(x1)\n",
        "\n",
        "# x3 = layers.Conv2D(64, kernel_size=(3, 3), activation='relu', padding='same')(x2)\n",
        "# x4 = layers.MaxPooling2D((2, 2))(x3)\n",
        "\n",
        "# x5 = layers.Conv2D(64, kernel_size=(3, 3), activation='relu', padding='same')(x4)\n",
        "# x6 = layers.MaxPooling2D((2, 2))(x5)\n",
        "\n",
        "# x7 = layers.Conv2D(64, kernel_size=(3, 3), activation='relu', padding='same')(x6)\n",
        "# x8 = layers.MaxPooling2D((2, 2))(x7)\n",
        "\n",
        "# x9 = layers.Conv2D(64, kernel_size=(3, 3), activation='relu', padding='same')(x8)\n",
        "# x10 = layers.MaxPooling2D((2, 2))(x9)\n",
        "\n",
        "# x11 = layers.Conv2D(64, kernel_size=(3, 3), activation='relu', padding='same')(x10)\n",
        "# x12 = layers.MaxPooling2D((2, 2))(x11)\n",
        "\n",
        "# x13 = layers.Flatten()(x12)\n",
        "\n",
        "# x14 = layers.Dense(64, activation='relu')(x13)\n",
        "# output = layers.Dense(n_classes, activation='softmax')(x14)\n",
        "\n",
        "# model = models.Model(inputs=img_input, outputs=output)\n",
        "\n",
        "# model.compile(optimizer='adam', loss='categorical_crossentropy', metrics=['accuracy'])\n",
        "\n",
        "# model.summary()\n"
      ],
      "metadata": {
        "execution": {
          "iopub.status.busy": "2024-04-24T18:05:31.118076Z",
          "iopub.execute_input": "2024-04-24T18:05:31.118467Z",
          "iopub.status.idle": "2024-04-24T18:05:31.12494Z",
          "shell.execute_reply.started": "2024-04-24T18:05:31.118432Z",
          "shell.execute_reply": "2024-04-24T18:05:31.123991Z"
        },
        "trusted": true,
        "id": "uCfAWX5TFK9G"
      },
      "execution_count": null,
      "outputs": []
    },
    {
      "cell_type": "code",
      "source": [
        "# #accuracy 95%\n",
        "# import tensorflow as tf\n",
        "# from tensorflow.keras import layers, models\n",
        "\n",
        "# # Define the input shape\n",
        "# input_shape = (224, 224, 3)\n",
        "# num_classes = 10\n",
        "# inputs = tf.keras.layers.Input(shape=input_shape)\n",
        "# x = tf.keras.layers.Conv2D(32, (3,3), activation='relu',padding='same')(inputs)\n",
        "# x = tf.keras.layers.MaxPooling2D((2,2))(x)\n",
        "# x = tf.keras.layers.Conv2D(64, (3,3), activation='relu',padding='same')(x)\n",
        "# x = tf.keras.layers.MaxPooling2D((2,2))(x)\n",
        "# x = tf.keras.layers.Conv2D(128, (3,3), activation='relu',padding='same')(x)\n",
        "# x = tf.keras.layers.MaxPooling2D((2,2))(x)\n",
        "# x = tf.keras.layers.Dropout(0.3) (x)\n",
        "# x = tf.keras.layers.Conv2D(128, (3,3), activation='relu',padding='same')(x)\n",
        "# x = tf.keras.layers.MaxPooling2D((2,2))(x)\n",
        "# x = tf.keras.layers.Dropout(0.3) (x)\n",
        "# x = tf.keras.layers.Conv2D(64, (3,3), activation='relu',padding='same')(x)\n",
        "# x = tf.keras.layers.MaxPooling2D((2,2))(x)\n",
        "# x = tf.keras.layers.Conv2D(32, (3,3), activation='relu',padding='same')(x)\n",
        "# x = tf.keras.layers.MaxPooling2D((2,2))(x)\n",
        "# x = tf.keras.layers.GlobalAveragePooling2D()(x)\n",
        "# x = tf.keras.layers.Dense(64, activation='relu')(x)\n",
        "# outputs = tf.keras.layers.Dense(num_classes, activation='softmax')(x)\n",
        "# model = tf.keras.models.Model(inputs=inputs, outputs=outputs)\n",
        "# model.compile(optimizer='adam', loss='categorical_crossentropy', metrics=['accuracy'])"
      ],
      "metadata": {
        "execution": {
          "iopub.status.busy": "2024-04-24T18:05:31.126239Z",
          "iopub.execute_input": "2024-04-24T18:05:31.12681Z",
          "iopub.status.idle": "2024-04-24T18:05:31.140763Z",
          "shell.execute_reply.started": "2024-04-24T18:05:31.126773Z",
          "shell.execute_reply": "2024-04-24T18:05:31.139914Z"
        },
        "trusted": true,
        "id": "fuUMhM1SFK9G"
      },
      "execution_count": null,
      "outputs": []
    },
    {
      "cell_type": "code",
      "source": [
        "\n",
        "# # accuracy 87\n",
        "# inputs = tf.keras.Input(shape=(224, 224, 3))\n",
        "\n",
        "# # Convolutional layers\n",
        "# x = tf.keras.layers.Conv2D(16, (3, 3), padding='same', activation='relu')(inputs)\n",
        "# x = tf.keras.layers.MaxPooling2D((2, 2), strides=(2, 2))(x)\n",
        "\n",
        "# x = tf.keras.layers.Conv2D(32, (3, 3), padding='same', activation='relu')(x)\n",
        "# x = tf.keras.layers.MaxPooling2D((2, 2), strides=(2, 2))(x)\n",
        "\n",
        "# x = tf.keras.layers.Conv2D(64, (3, 3), padding='same', activation='relu')(x)\n",
        "# x = tf.keras.layers.MaxPooling2D((2, 2), strides=(2, 2))(x)\n",
        "\n",
        "# x = tf.keras.layers.Conv2D(128, (3, 3), padding='same', activation='relu')(x)\n",
        "# x = tf.keras.layers.MaxPooling2D((2, 2), strides=(2, 2))(x)\n",
        "\n",
        "# # Flatten layer\n",
        "# x = tf.keras.layers.Flatten()(x)\n",
        "\n",
        "# # Fully connected layers\n",
        "# x = tf.keras.layers.Dense(128, activation='relu')(x)\n",
        "# x = tf.keras.layers.Dropout(0.2)(x)\n",
        "\n",
        "# x = tf.keras.layers.Dense(512, activation='relu')(x)\n",
        "# x = tf.keras.layers.Dropout(0.2)(x)\n",
        "\n",
        "# x = tf.keras.layers.Dense(1024, activation='relu')(x)\n",
        "# x = tf.keras.layers.Dropout(0.2)(x)\n",
        "\n",
        "# outputs = tf.keras.layers.Dense(10, activation='softmax')(x)\n",
        "\n",
        "# # Create model\n",
        "# model = tf.keras.Model(inputs=inputs, outputs=outputs)\n",
        "\n",
        "\n",
        "# # Print model summary\n",
        "# model.summary()\n",
        "\n",
        "# # Compile the model\n",
        "# model.compile(optimizer='adam', loss='categorical_crossentropy', metrics=['accuracy'])\n"
      ],
      "metadata": {
        "execution": {
          "iopub.status.busy": "2024-04-24T18:05:31.14206Z",
          "iopub.execute_input": "2024-04-24T18:05:31.142395Z",
          "iopub.status.idle": "2024-04-24T18:05:31.154913Z",
          "shell.execute_reply.started": "2024-04-24T18:05:31.14237Z",
          "shell.execute_reply": "2024-04-24T18:05:31.154044Z"
        },
        "trusted": true,
        "id": "Szr6fmp_FK9G"
      },
      "execution_count": null,
      "outputs": []
    },
    {
      "cell_type": "code",
      "source": [
        "import tensorflow as tf\n",
        "\n",
        "\n",
        "inputs = tf.keras.Input(shape=(224, 224, 3))\n",
        "\n",
        "# Convolutional layers\n",
        "x = tf.keras.layers.Conv2D(32, (3, 3), padding='same', activation='relu')(inputs)\n",
        "x = tf.keras.layers.MaxPooling2D((2, 2), strides=(2, 2))(x)\n",
        "\n",
        "x = tf.keras.layers.Conv2D(64, (3, 3), padding='same', activation='relu')(x)\n",
        "x = tf.keras.layers.MaxPooling2D((2, 2), strides=(2, 2))(x)\n",
        "\n",
        "x = tf.keras.layers.Conv2D(128, (3, 3), padding='same', activation='relu')(x)\n",
        "x = tf.keras.layers.MaxPooling2D((2, 2), strides=(2, 2))(x)\n",
        "\n",
        "x = tf.keras.layers.Conv2D(256, (3, 3), padding='same', activation='relu')(x)\n",
        "x = tf.keras.layers.MaxPooling2D((2, 2), strides=(2, 2))(x)\n",
        "\n",
        "# Flatten layer\n",
        "x = tf.keras.layers.Flatten()(x)\n",
        "\n",
        "# Fully connected layers\n",
        "x = tf.keras.layers.Dense(16, activation='relu')(x)\n",
        "x = tf.keras.layers.Dropout(0.2)(x)\n",
        "\n",
        "x = tf.keras.layers.Dense(32, activation='relu')(x)\n",
        "x = tf.keras.layers.Dropout(0.2)(x)\n",
        "\n",
        "\n",
        "\n",
        "outputs = tf.keras.layers.Dense(10, activation='softmax')(x)\n",
        "\n",
        "model = tf.keras.Model(inputs=inputs, outputs=outputs)\n",
        "\n",
        "model.summary()\n",
        "\n",
        "model.compile(optimizer='adam', loss='categorical_crossentropy', metrics=['accuracy'])\n"
      ],
      "metadata": {
        "execution": {
          "iopub.status.busy": "2024-04-24T18:05:31.156018Z",
          "iopub.execute_input": "2024-04-24T18:05:31.157809Z",
          "iopub.status.idle": "2024-04-24T18:05:31.295849Z",
          "shell.execute_reply.started": "2024-04-24T18:05:31.157775Z",
          "shell.execute_reply": "2024-04-24T18:05:31.294828Z"
        },
        "trusted": true,
        "id": "Dq5cByn9FK9G",
        "outputId": "4d31b8f6-93c3-44c8-92f6-35677d305e85"
      },
      "execution_count": null,
      "outputs": [
        {
          "name": "stdout",
          "text": "Model: \"model_2\"\n_________________________________________________________________\n Layer (type)                Output Shape              Param #   \n=================================================================\n input_3 (InputLayer)        [(None, 224, 224, 3)]     0         \n                                                                 \n conv2d_8 (Conv2D)           (None, 224, 224, 32)      896       \n                                                                 \n max_pooling2d_8 (MaxPooling  (None, 112, 112, 32)     0         \n 2D)                                                             \n                                                                 \n conv2d_9 (Conv2D)           (None, 112, 112, 64)      18496     \n                                                                 \n max_pooling2d_9 (MaxPooling  (None, 56, 56, 64)       0         \n 2D)                                                             \n                                                                 \n conv2d_10 (Conv2D)          (None, 56, 56, 128)       73856     \n                                                                 \n max_pooling2d_10 (MaxPoolin  (None, 28, 28, 128)      0         \n g2D)                                                            \n                                                                 \n conv2d_11 (Conv2D)          (None, 28, 28, 256)       295168    \n                                                                 \n max_pooling2d_11 (MaxPoolin  (None, 14, 14, 256)      0         \n g2D)                                                            \n                                                                 \n flatten_2 (Flatten)         (None, 50176)             0         \n                                                                 \n dense_7 (Dense)             (None, 16)                802832    \n                                                                 \n dropout_5 (Dropout)         (None, 16)                0         \n                                                                 \n dense_8 (Dense)             (None, 32)                544       \n                                                                 \n dropout_6 (Dropout)         (None, 32)                0         \n                                                                 \n dense_9 (Dense)             (None, 10)                330       \n                                                                 \n=================================================================\nTotal params: 1,192,122\nTrainable params: 1,192,122\nNon-trainable params: 0\n_________________________________________________________________\n",
          "output_type": "stream"
        }
      ]
    },
    {
      "cell_type": "code",
      "source": [
        "# import tensorflow as tf\n",
        "\n",
        "# input_shape = (224, 224, 3)\n",
        "\n",
        "# inputs = tf.keras.Input(shape=input_shape)\n",
        "\n",
        "# x = tf.keras.layers.Conv2D(32, (3, 3), activation='relu')(inputs)\n",
        "# x = tf.keras.layers.MaxPooling2D((2, 2))(x)\n",
        "\n",
        "# x = tf.keras.layers.Conv2D(64, (3, 3), activation='relu')(x)\n",
        "# x = tf.keras.layers.MaxPooling2D((2, 2))(x)\n",
        "\n",
        "# x = tf.keras.layers.Conv2D(128, (3, 3), activation='relu')(x)\n",
        "# x = tf.keras.layers.MaxPooling2D((2, 2))(x)\n",
        "\n",
        "# x = tf.keras.layers.Conv2D(256, (3, 3), activation='relu')(x)\n",
        "# x = tf.keras.layers.MaxPooling2D((2, 2))(x)\n",
        "\n",
        "# x = tf.keras.layers.Flatten()(x)\n",
        "# x = tf.keras.layers.Dropout(0.5)(x)\n",
        "# x = tf.keras.layers.Dense(128, activation='relu')(x)\n",
        "# x = tf.keras.layers.Dropout(0.5)(x)\n",
        "# x = tf.keras.layers.Dense(64, activation='relu')(x)\n",
        "\n",
        "# outputs = tf.keras.layers.Dense(10, activation='softmax')(x)\n",
        "\n",
        "# model = tf.keras.Model(inputs=inputs, outputs=outputs)\n",
        "# model.compile(optimizer='adam', loss='categorical_crossentropy', metrics=['accuracy'])\n",
        "# model.summary()"
      ],
      "metadata": {
        "execution": {
          "iopub.status.busy": "2024-04-24T18:05:31.297212Z",
          "iopub.execute_input": "2024-04-24T18:05:31.29753Z",
          "iopub.status.idle": "2024-04-24T18:05:31.302978Z",
          "shell.execute_reply.started": "2024-04-24T18:05:31.297503Z",
          "shell.execute_reply": "2024-04-24T18:05:31.301875Z"
        },
        "trusted": true,
        "id": "nTccwB7-FK9G"
      },
      "execution_count": null,
      "outputs": []
    },
    {
      "cell_type": "code",
      "source": [
        "from tensorflow.keras.callbacks import ModelCheckpoint, EarlyStopping\n",
        "checkpoint = ModelCheckpoint('best_model.h5', save_best_only=True, monitor='val_accuracy', mode='max', verbose=1)\n",
        "early_stopping = EarlyStopping(monitor='val_loss', patience=40, verbose=1, restore_best_weights=True)\n"
      ],
      "metadata": {
        "execution": {
          "iopub.status.busy": "2024-04-24T18:05:31.309814Z",
          "iopub.execute_input": "2024-04-24T18:05:31.310173Z",
          "iopub.status.idle": "2024-04-24T18:05:31.318941Z",
          "shell.execute_reply.started": "2024-04-24T18:05:31.310146Z",
          "shell.execute_reply": "2024-04-24T18:05:31.317837Z"
        },
        "trusted": true,
        "id": "Tt-1FgPoFK9H"
      },
      "execution_count": null,
      "outputs": []
    },
    {
      "cell_type": "code",
      "source": [
        "history = model.fit_generator(\n",
        "    generator=training_set,\n",
        "    steps_per_epoch=len(training_set),\n",
        "    epochs=40,\n",
        "    validation_data=validation_set,\n",
        "    validation_steps=len(validation_set),\n",
        "    callbacks=[checkpoint,early_stopping]\n",
        ")"
      ],
      "metadata": {
        "execution": {
          "iopub.status.busy": "2024-04-24T18:05:31.320187Z",
          "iopub.execute_input": "2024-04-24T18:05:31.320485Z",
          "iopub.status.idle": "2024-04-24T18:52:46.071099Z",
          "shell.execute_reply.started": "2024-04-24T18:05:31.320454Z",
          "shell.execute_reply": "2024-04-24T18:52:46.070151Z"
        },
        "trusted": true,
        "id": "-qru8R73FK9H",
        "outputId": "b50492f4-44ac-4123-a737-61ef702f0993"
      },
      "execution_count": null,
      "outputs": [
        {
          "name": "stderr",
          "text": "/tmp/ipykernel_26/2096050626.py:1: UserWarning: `Model.fit_generator` is deprecated and will be removed in a future version. Please use `Model.fit`, which supports generators.\n  history = model.fit_generator(\n",
          "output_type": "stream"
        },
        {
          "name": "stdout",
          "text": "Epoch 1/40\n148/148 [==============================] - ETA: 0s - loss: 2.0006 - accuracy: 0.2174\nEpoch 1: val_accuracy improved from -inf to 0.33426, saving model to best_model.h5\n148/148 [==============================] - 211s 1s/step - loss: 2.0006 - accuracy: 0.2174 - val_loss: 1.5940 - val_accuracy: 0.3343\nEpoch 2/40\n148/148 [==============================] - ETA: 0s - loss: 1.7303 - accuracy: 0.3058\nEpoch 2: val_accuracy improved from 0.33426 to 0.39870, saving model to best_model.h5\n148/148 [==============================] - 70s 471ms/step - loss: 1.7303 - accuracy: 0.3058 - val_loss: 1.4828 - val_accuracy: 0.3987\nEpoch 3/40\n148/148 [==============================] - ETA: 0s - loss: 1.6564 - accuracy: 0.3398\nEpoch 3: val_accuracy improved from 0.39870 to 0.50426, saving model to best_model.h5\n148/148 [==============================] - 67s 450ms/step - loss: 1.6564 - accuracy: 0.3398 - val_loss: 1.4321 - val_accuracy: 0.5043\nEpoch 4/40\n148/148 [==============================] - ETA: 0s - loss: 1.6158 - accuracy: 0.3675\nEpoch 4: val_accuracy improved from 0.50426 to 0.54889, saving model to best_model.h5\n148/148 [==============================] - 68s 458ms/step - loss: 1.6158 - accuracy: 0.3675 - val_loss: 1.3328 - val_accuracy: 0.5489\nEpoch 5/40\n148/148 [==============================] - ETA: 0s - loss: 1.5301 - accuracy: 0.4137\nEpoch 5: val_accuracy improved from 0.54889 to 0.59685, saving model to best_model.h5\n148/148 [==============================] - 68s 460ms/step - loss: 1.5301 - accuracy: 0.4137 - val_loss: 1.2392 - val_accuracy: 0.5969\nEpoch 6/40\n148/148 [==============================] - ETA: 0s - loss: 1.4377 - accuracy: 0.4706\nEpoch 6: val_accuracy improved from 0.59685 to 0.63722, saving model to best_model.h5\n148/148 [==============================] - 69s 466ms/step - loss: 1.4377 - accuracy: 0.4706 - val_loss: 1.1272 - val_accuracy: 0.6372\nEpoch 7/40\n148/148 [==============================] - ETA: 0s - loss: 1.3561 - accuracy: 0.5153\nEpoch 7: val_accuracy improved from 0.63722 to 0.67667, saving model to best_model.h5\n148/148 [==============================] - 67s 455ms/step - loss: 1.3561 - accuracy: 0.5153 - val_loss: 1.0372 - val_accuracy: 0.6767\nEpoch 8/40\n148/148 [==============================] - ETA: 0s - loss: 1.2690 - accuracy: 0.5532\nEpoch 8: val_accuracy improved from 0.67667 to 0.70111, saving model to best_model.h5\n148/148 [==============================] - 67s 451ms/step - loss: 1.2690 - accuracy: 0.5532 - val_loss: 0.9529 - val_accuracy: 0.7011\nEpoch 9/40\n148/148 [==============================] - ETA: 0s - loss: 1.2263 - accuracy: 0.5716\nEpoch 9: val_accuracy did not improve from 0.70111\n148/148 [==============================] - 69s 463ms/step - loss: 1.2263 - accuracy: 0.5716 - val_loss: 0.9183 - val_accuracy: 0.6970\nEpoch 10/40\n148/148 [==============================] - ETA: 0s - loss: 1.1799 - accuracy: 0.5866\nEpoch 10: val_accuracy did not improve from 0.70111\n148/148 [==============================] - 68s 457ms/step - loss: 1.1799 - accuracy: 0.5866 - val_loss: 0.8874 - val_accuracy: 0.6950\nEpoch 11/40\n148/148 [==============================] - ETA: 0s - loss: 1.0644 - accuracy: 0.6274\nEpoch 11: val_accuracy improved from 0.70111 to 0.74833, saving model to best_model.h5\n148/148 [==============================] - 67s 453ms/step - loss: 1.0644 - accuracy: 0.6274 - val_loss: 0.8006 - val_accuracy: 0.7483\nEpoch 12/40\n148/148 [==============================] - ETA: 0s - loss: 1.0169 - accuracy: 0.6498\nEpoch 12: val_accuracy improved from 0.74833 to 0.76241, saving model to best_model.h5\n148/148 [==============================] - 65s 441ms/step - loss: 1.0169 - accuracy: 0.6498 - val_loss: 0.7411 - val_accuracy: 0.7624\nEpoch 13/40\n148/148 [==============================] - ETA: 0s - loss: 0.9644 - accuracy: 0.6613\nEpoch 13: val_accuracy did not improve from 0.76241\n148/148 [==============================] - 66s 443ms/step - loss: 0.9644 - accuracy: 0.6613 - val_loss: 0.7363 - val_accuracy: 0.7519\nEpoch 14/40\n148/148 [==============================] - ETA: 0s - loss: 0.9333 - accuracy: 0.6757\nEpoch 14: val_accuracy improved from 0.76241 to 0.77130, saving model to best_model.h5\n148/148 [==============================] - 68s 457ms/step - loss: 0.9333 - accuracy: 0.6757 - val_loss: 0.7104 - val_accuracy: 0.7713\nEpoch 15/40\n148/148 [==============================] - ETA: 0s - loss: 0.8986 - accuracy: 0.6835\nEpoch 15: val_accuracy improved from 0.77130 to 0.79000, saving model to best_model.h5\n148/148 [==============================] - 70s 473ms/step - loss: 0.8986 - accuracy: 0.6835 - val_loss: 0.6502 - val_accuracy: 0.7900\nEpoch 16/40\n148/148 [==============================] - ETA: 0s - loss: 0.8486 - accuracy: 0.7016\nEpoch 16: val_accuracy improved from 0.79000 to 0.79556, saving model to best_model.h5\n148/148 [==============================] - 68s 459ms/step - loss: 0.8486 - accuracy: 0.7016 - val_loss: 0.6714 - val_accuracy: 0.7956\nEpoch 17/40\n148/148 [==============================] - ETA: 0s - loss: 0.8234 - accuracy: 0.7137\nEpoch 17: val_accuracy did not improve from 0.79556\n148/148 [==============================] - 67s 454ms/step - loss: 0.8234 - accuracy: 0.7137 - val_loss: 0.6930 - val_accuracy: 0.7789\nEpoch 18/40\n148/148 [==============================] - ETA: 0s - loss: 0.7890 - accuracy: 0.7246\nEpoch 18: val_accuracy improved from 0.79556 to 0.81259, saving model to best_model.h5\n148/148 [==============================] - 67s 450ms/step - loss: 0.7890 - accuracy: 0.7246 - val_loss: 0.6021 - val_accuracy: 0.8126\nEpoch 19/40\n148/148 [==============================] - ETA: 0s - loss: 0.7798 - accuracy: 0.7332\nEpoch 19: val_accuracy improved from 0.81259 to 0.82426, saving model to best_model.h5\n148/148 [==============================] - 67s 450ms/step - loss: 0.7798 - accuracy: 0.7332 - val_loss: 0.5822 - val_accuracy: 0.8243\nEpoch 20/40\n148/148 [==============================] - ETA: 0s - loss: 0.7279 - accuracy: 0.7519\nEpoch 20: val_accuracy improved from 0.82426 to 0.83037, saving model to best_model.h5\n148/148 [==============================] - 66s 445ms/step - loss: 0.7279 - accuracy: 0.7519 - val_loss: 0.5507 - val_accuracy: 0.8304\nEpoch 21/40\n148/148 [==============================] - ETA: 0s - loss: 0.7109 - accuracy: 0.7533\nEpoch 21: val_accuracy did not improve from 0.83037\n148/148 [==============================] - 69s 469ms/step - loss: 0.7109 - accuracy: 0.7533 - val_loss: 0.6125 - val_accuracy: 0.8178\nEpoch 22/40\n148/148 [==============================] - ETA: 0s - loss: 0.7134 - accuracy: 0.7508\nEpoch 22: val_accuracy did not improve from 0.83037\n148/148 [==============================] - 66s 442ms/step - loss: 0.7134 - accuracy: 0.7508 - val_loss: 0.6084 - val_accuracy: 0.8172\nEpoch 23/40\n148/148 [==============================] - ETA: 0s - loss: 0.6981 - accuracy: 0.7586\nEpoch 23: val_accuracy did not improve from 0.83037\n148/148 [==============================] - 66s 444ms/step - loss: 0.6981 - accuracy: 0.7586 - val_loss: 0.5574 - val_accuracy: 0.8220\nEpoch 24/40\n148/148 [==============================] - ETA: 0s - loss: 0.6587 - accuracy: 0.7720\nEpoch 24: val_accuracy did not improve from 0.83037\n148/148 [==============================] - 66s 444ms/step - loss: 0.6587 - accuracy: 0.7720 - val_loss: 0.5536 - val_accuracy: 0.8270\nEpoch 25/40\n148/148 [==============================] - ETA: 0s - loss: 0.6437 - accuracy: 0.7789\nEpoch 25: val_accuracy did not improve from 0.83037\n148/148 [==============================] - 65s 440ms/step - loss: 0.6437 - accuracy: 0.7789 - val_loss: 0.5981 - val_accuracy: 0.8254\nEpoch 26/40\n148/148 [==============================] - ETA: 0s - loss: 0.6269 - accuracy: 0.7828\nEpoch 26: val_accuracy improved from 0.83037 to 0.83185, saving model to best_model.h5\n148/148 [==============================] - 66s 446ms/step - loss: 0.6269 - accuracy: 0.7828 - val_loss: 0.5712 - val_accuracy: 0.8319\nEpoch 27/40\n148/148 [==============================] - ETA: 0s - loss: 0.6259 - accuracy: 0.7794\nEpoch 27: val_accuracy did not improve from 0.83185\n148/148 [==============================] - 67s 453ms/step - loss: 0.6259 - accuracy: 0.7794 - val_loss: 0.6284 - val_accuracy: 0.8120\nEpoch 28/40\n148/148 [==============================] - ETA: 0s - loss: 0.6241 - accuracy: 0.7850\nEpoch 28: val_accuracy did not improve from 0.83185\n148/148 [==============================] - 66s 447ms/step - loss: 0.6241 - accuracy: 0.7850 - val_loss: 0.5632 - val_accuracy: 0.8294\nEpoch 29/40\n148/148 [==============================] - ETA: 0s - loss: 0.5876 - accuracy: 0.7951\nEpoch 29: val_accuracy improved from 0.83185 to 0.83963, saving model to best_model.h5\n148/148 [==============================] - 67s 449ms/step - loss: 0.5876 - accuracy: 0.7951 - val_loss: 0.6036 - val_accuracy: 0.8396\nEpoch 30/40\n148/148 [==============================] - ETA: 0s - loss: 0.5883 - accuracy: 0.7944\nEpoch 30: val_accuracy did not improve from 0.83963\n148/148 [==============================] - 66s 448ms/step - loss: 0.5883 - accuracy: 0.7944 - val_loss: 0.6055 - val_accuracy: 0.8237\nEpoch 31/40\n148/148 [==============================] - ETA: 0s - loss: 0.5714 - accuracy: 0.8009\nEpoch 31: val_accuracy did not improve from 0.83963\n148/148 [==============================] - 66s 444ms/step - loss: 0.5714 - accuracy: 0.8009 - val_loss: 0.6256 - val_accuracy: 0.8272\nEpoch 32/40\n148/148 [==============================] - ETA: 0s - loss: 0.5516 - accuracy: 0.8060\nEpoch 32: val_accuracy did not improve from 0.83963\n148/148 [==============================] - 66s 446ms/step - loss: 0.5516 - accuracy: 0.8060 - val_loss: 0.7799 - val_accuracy: 0.8115\nEpoch 33/40\n148/148 [==============================] - ETA: 0s - loss: 0.5498 - accuracy: 0.8075\nEpoch 33: val_accuracy did not improve from 0.83963\n148/148 [==============================] - 67s 450ms/step - loss: 0.5498 - accuracy: 0.8075 - val_loss: 0.7486 - val_accuracy: 0.8065\nEpoch 34/40\n148/148 [==============================] - ETA: 0s - loss: 0.5770 - accuracy: 0.7988\nEpoch 34: val_accuracy did not improve from 0.83963\n148/148 [==============================] - 67s 449ms/step - loss: 0.5770 - accuracy: 0.7988 - val_loss: 0.7063 - val_accuracy: 0.8039\nEpoch 35/40\n148/148 [==============================] - ETA: 0s - loss: 0.5273 - accuracy: 0.8130\nEpoch 35: val_accuracy did not improve from 0.83963\n148/148 [==============================] - 67s 449ms/step - loss: 0.5273 - accuracy: 0.8130 - val_loss: 0.6941 - val_accuracy: 0.8215\nEpoch 36/40\n148/148 [==============================] - ETA: 0s - loss: 0.5336 - accuracy: 0.8125\nEpoch 36: val_accuracy did not improve from 0.83963\n148/148 [==============================] - 66s 446ms/step - loss: 0.5336 - accuracy: 0.8125 - val_loss: 0.8505 - val_accuracy: 0.7867\nEpoch 37/40\n148/148 [==============================] - ETA: 0s - loss: 0.5188 - accuracy: 0.8160\nEpoch 37: val_accuracy did not improve from 0.83963\n148/148 [==============================] - 72s 484ms/step - loss: 0.5188 - accuracy: 0.8160 - val_loss: 0.6619 - val_accuracy: 0.8257\nEpoch 38/40\n148/148 [==============================] - ETA: 0s - loss: 0.4877 - accuracy: 0.8249\nEpoch 38: val_accuracy did not improve from 0.83963\n148/148 [==============================] - 66s 445ms/step - loss: 0.4877 - accuracy: 0.8249 - val_loss: 0.6527 - val_accuracy: 0.8291\nEpoch 39/40\n148/148 [==============================] - ETA: 0s - loss: 0.4888 - accuracy: 0.8234\nEpoch 39: val_accuracy did not improve from 0.83963\n148/148 [==============================] - 71s 476ms/step - loss: 0.4888 - accuracy: 0.8234 - val_loss: 0.6693 - val_accuracy: 0.8265\nEpoch 40/40\n148/148 [==============================] - ETA: 0s - loss: 0.4701 - accuracy: 0.8306\nEpoch 40: val_accuracy improved from 0.83963 to 0.84241, saving model to best_model.h5\n148/148 [==============================] - 69s 466ms/step - loss: 0.4701 - accuracy: 0.8306 - val_loss: 0.6679 - val_accuracy: 0.8424\n",
          "output_type": "stream"
        }
      ]
    },
    {
      "cell_type": "code",
      "source": [
        "test_loss, test_accuracy = model.evaluate_generator(test_set, steps=len(test_set))\n",
        "print(f'Test Loss: {test_loss}')\n",
        "print(f'Test Accuracy: {test_accuracy}')"
      ],
      "metadata": {
        "execution": {
          "iopub.status.busy": "2024-04-24T18:52:46.072538Z",
          "iopub.execute_input": "2024-04-24T18:52:46.072883Z",
          "iopub.status.idle": "2024-04-24T18:53:13.004809Z",
          "shell.execute_reply.started": "2024-04-24T18:52:46.072856Z",
          "shell.execute_reply": "2024-04-24T18:53:13.003495Z"
        },
        "trusted": true,
        "id": "I62gNDNnFK9H",
        "outputId": "3b112f0e-d2ce-4712-b074-5a5420d3c1a3"
      },
      "execution_count": null,
      "outputs": [
        {
          "name": "stderr",
          "text": "/tmp/ipykernel_26/785264972.py:1: UserWarning: `Model.evaluate_generator` is deprecated and will be removed in a future version. Please use `Model.evaluate`, which supports generators.\n  test_loss, test_accuracy = model.evaluate_generator(test_set, steps=len(test_set))\n",
          "output_type": "stream"
        },
        {
          "name": "stdout",
          "text": "Test Loss: 0.6370012760162354\nTest Accuracy: 0.8481481671333313\n",
          "output_type": "stream"
        }
      ]
    },
    {
      "cell_type": "code",
      "source": [],
      "metadata": {
        "id": "d9j3Vx68FK9H"
      },
      "execution_count": null,
      "outputs": []
    }
  ]
}